{
 "cells": [
  {
   "cell_type": "code",
   "execution_count": 1,
   "metadata": {},
   "outputs": [],
   "source": [
    "from langchain_text_splitters import RecursiveCharacterTextSplitter\n",
    "from langchain.embeddings import HuggingFaceBgeEmbeddings\n",
    "import re\n",
    "import os\n",
    "import json\n",
    "import aiofiles\n",
    "import asyncio\n",
    "from typing import Dict, Any\n",
    "from datetime import datetime\n",
    "from langchain.text_splitter import RecursiveCharacterTextSplitter"
   ]
  },
  {
   "cell_type": "code",
   "execution_count": 2,
   "metadata": {},
   "outputs": [
    {
     "name": "stderr",
     "output_type": "stream",
     "text": [
      "e:\\Codes\\Data Sciene\\AI\\Real_Estate_Chatbot\\.venv\\lib\\site-packages\\pinecone\\data\\index.py:1: TqdmWarning: IProgress not found. Please update jupyter and ipywidgets. See https://ipywidgets.readthedocs.io/en/stable/user_install.html\n",
      "  from tqdm.autonotebook import tqdm\n"
     ]
    },
    {
     "data": {
      "text/plain": [
       "True"
      ]
     },
     "execution_count": 2,
     "metadata": {},
     "output_type": "execute_result"
    }
   ],
   "source": [
    "import os\n",
    "from dotenv import load_dotenv\n",
    "from pinecone.grpc import PineconeGRPC as Pinecone\n",
    "from pinecone import ServerlessSpec\n",
    "load_dotenv()"
   ]
  },
  {
   "cell_type": "code",
   "execution_count": 3,
   "metadata": {},
   "outputs": [],
   "source": [
    "model_name = \"BAAI/bge-small-en\"\n",
    "model_kwargs = {\"device\": \"cuda\"}\n",
    "embeddings = HuggingFaceBgeEmbeddings(\n",
    "    model_name=model_name, model_kwargs=model_kwargs\\\n",
    ")"
   ]
  },
  {
   "cell_type": "code",
   "execution_count": 4,
   "metadata": {},
   "outputs": [],
   "source": [
    "pc = Pinecone(api_key=os.environ.get(\"PINECONE_API_KEY\"))\n",
    "index_name = 'realestatebot'\n",
    "namespace = 'docs-weblinks'"
   ]
  },
  {
   "cell_type": "code",
   "execution_count": 5,
   "metadata": {},
   "outputs": [],
   "source": [
    "from llama_index.embeddings.huggingface import HuggingFaceEmbedding\n",
    "from llama_index.vector_stores.pinecone import PineconeVectorStore\n",
    "from llama_index.core import Settings, VectorStoreIndex, get_response_synthesizer  # noqa: F401\n",
    "from llama_index.core.chat_engine.context import ContextChatEngine\n",
    "from llama_index.core.llms import ChatMessage\n",
    "from llama_index.core.memory import ChatMemoryBuffer\n",
    "from llama_index.core.postprocessor import LongContextReorder\n",
    "from llama_index.core.retrievers import VectorIndexRetriever\n",
    "# from llama_index.llms.gemini import Gemini\n",
    "from llama_index.llms.groq import Groq"
   ]
  },
  {
   "cell_type": "code",
   "execution_count": 6,
   "metadata": {},
   "outputs": [],
   "source": [
    "from llama_index.core.query_engine import RetrieverQueryEngine\n",
    "from crewai import Agent, Task, Crew, LLM\n",
    "from crewai_tools import LlamaIndexTool"
   ]
  },
  {
   "cell_type": "code",
   "execution_count": 7,
   "metadata": {},
   "outputs": [],
   "source": [
    "embed_model = HuggingFaceEmbedding(model_name=\"BAAI/bge-small-en\")"
   ]
  },
  {
   "cell_type": "code",
   "execution_count": 53,
   "metadata": {},
   "outputs": [],
   "source": [
    "Settings.embed_model=embed_model\n",
    "Settings.llm = Groq(api_key=os.environ.get(\"GROQ_API_KEY\"), model = 'llama3-70b-8192')\n",
    "# Settings.llm = Gemini(api_key=os.environ.get(\"GEMINI_API_KEY\"), model ='models/gemini-1.5-flash')"
   ]
  },
  {
   "cell_type": "code",
   "execution_count": 54,
   "metadata": {},
   "outputs": [],
   "source": [
    "from llama_index.core import PromptTemplate"
   ]
  },
  {
   "cell_type": "code",
   "execution_count": 55,
   "metadata": {},
   "outputs": [],
   "source": [
    "template = (\n",
    "    \"\"\" You are an assistant for answering real estate-related queries. Use the following pieces of retrieved information to answer questions about properties, such as available listings, property details (e.g., number of BHKs, facilities), and other relevant information. Provide clear and direct answers as if you're responding to a user's inquiry, without mentioning any documents or contexts. If you don't know the answer, just say that you don't know.\n",
    "\n",
    "You should always answer using the provided context and only the context from the document.\n",
    "\n",
    "Question: {query_str} Context: {context_str} Answer: \"\"\"\n",
    ")\n",
    "\n",
    "qa_template = PromptTemplate(template)"
   ]
  },
  {
   "cell_type": "code",
   "execution_count": 91,
   "metadata": {},
   "outputs": [],
   "source": [
    "from llama_index.core.llms import ChatMessage, MessageRole\n",
    "from llama_index.core import ChatPromptTemplate"
   ]
  },
  {
   "cell_type": "code",
   "execution_count": 92,
   "metadata": {},
   "outputs": [],
   "source": [
    "chat_text_qa_msgs = [\n",
    "    ChatMessage(\n",
    "        role=MessageRole.SYSTEM,\n",
    "        content=(\n",
    "            \"\"\" You are an assistant for answering real estate-related queries. Use the following pieces of retrieved information to answer questions about properties, such as available listings, property details (e.g., number of BHKs, facilities), and other relevant information. Provide clear and direct answers as if you're responding to a user's inquiry, without mentioning any documents or contexts. If you don't know the answer, just say that you don't know.\n",
    "\n",
    "You should always answer using the provided context and only the context from the document.\"\"\"\n",
    "        ),\n",
    "    ),\n",
    "    ChatMessage(\n",
    "        role=MessageRole.USER,\n",
    "        content=(\n",
    "            \"Context information is below.\\n\"\n",
    "            \"---------------------\\n\"\n",
    "            \"{context_str}\\n\"\n",
    "            \"---------------------\\n\"\n",
    "            \"Given the context information and not prior knowledge, \"\n",
    "            \"answer the query.\\n\"\n",
    "            \"Query: {query_str}\\n\"\n",
    "            \"Answer: \"\n",
    "        ),\n",
    "    ),\n",
    "]\n",
    "text_qa_template = ChatPromptTemplate(chat_text_qa_msgs)"
   ]
  },
  {
   "cell_type": "code",
   "execution_count": 94,
   "metadata": {},
   "outputs": [],
   "source": [
    "chat_refine_msgs = [\n",
    "    ChatMessage(\n",
    "        role=MessageRole.SYSTEM,\n",
    "        content=(\n",
    "            \"You are an expert Q&A system that strictly operates in two modes \"\n",
    "            \"when refining existing answers:\\n\"\n",
    "            \"1. **Rewrite** an original answer using the new context.\\n\"\n",
    "            \"2. **Repeat** the original answer if the new context isn't useful.\\n\"\n",
    "            \"Never reference the original answer or context directly in your answer.\\n\"\n",
    "            \"When in doubt, just repeat the original answer.\"\n",
    "        ),\n",
    "    ),\n",
    "    ChatMessage(\n",
    "        role=MessageRole.USER,\n",
    "        content=(\n",
    "            \"New Context: {context_msg}\\n\"\n",
    "            \"Query: {query_str}\\n\"\n",
    "            \"Original Answer: {existing_answer}\\n\"\n",
    "            \"New Answer: \"\n",
    "        ),\n",
    "    ),\n",
    "]\n",
    "refine_template = ChatPromptTemplate(chat_refine_msgs)"
   ]
  },
  {
   "cell_type": "code",
   "execution_count": 95,
   "metadata": {},
   "outputs": [],
   "source": [
    "def pinecone_vectorstore():\n",
    "    index = pc.Index(index_name)\n",
    "    pinecone_vector_store = PineconeVectorStore(pinecone_index=index, namespace='docs-weblinks')\n",
    "\n",
    "    return VectorStoreIndex.from_vector_store(vector_store=pinecone_vector_store)\n",
    "\n",
    "reorder = LongContextReorder()\n",
    "vector_index_retriever = VectorIndexRetriever(\n",
    "index=pinecone_vectorstore(),\n",
    "namespace=namespace,\n",
    "postprocessors=[reorder],\n",
    "similarity_top_k=15),\n",
    "\n",
    "index=pinecone_vectorstore()\n",
    "namespace=namespace,\n",
    "response_synthesizer = get_response_synthesizer(response_mode='refine', text_qa_template=text_qa_template, refine_template=refine_template)\n",
    "postprocessors = [reorder]"
   ]
  },
  {
   "cell_type": "code",
   "execution_count": 96,
   "metadata": {},
   "outputs": [],
   "source": [
    "query_engine = RetrieverQueryEngine(\n",
    "        retriever=vector_index_retriever[0],\n",
    "        response_synthesizer=response_synthesizer,\n",
    "        node_postprocessors=postprocessors,\n",
    ")"
   ]
  },
  {
   "cell_type": "code",
   "execution_count": 99,
   "metadata": {},
   "outputs": [],
   "source": [
    "result = query_engine.query(\"What are the indian laws mentioned\")"
   ]
  },
  {
   "cell_type": "code",
   "execution_count": 100,
   "metadata": {},
   "outputs": [
    {
     "data": {
      "text/plain": [
       "Response(response='There is only one Indian law mentioned in the provided text: the Registration Act, 1908.', source_nodes=[NodeWithScore(node=TextNode(id_='ImportantLegalPropertyDocuments.txt#chunk_2', embedding=None, metadata={'creation_date': '2024-09-29', 'last_modified_date': '2024-09-29', 'file_name': 'IMPORTANT LEGAL PROPERTY DOCUMENTS.txt', 'file_size': 30649.0, 'file_path': 'E:\\\\Codes\\\\Data Sciene\\\\AI\\\\Real_Estate_Chatbot\\\\app\\\\db\\\\extracted_output\\\\pdf-documents\\\\IMPORTANT LEGAL PROPERTY DOCUMENTS.txt'}, excluded_embed_metadata_keys=[], excluded_llm_metadata_keys=[], relationships={}, text='Applicable Laws\\nIn India, basically the following laws govern property matters –\\n•\\nThe Transfer of Property Act, 1882\\n•\\nThe Special Relief Act, 1963\\n•\\nThe Indian Contract Act, 1872\\n•\\nThe Registration Act, 1908\\n•\\nThe Indian Stamp Act, 1899\\n•\\nThe Indian Succession Act, 1925\\n•\\nThe Indian Easements Act, 1882\\n•\\nThe Real Estate (Regulation and Development) Act, 2016\\nINDIAN PROPERTY SHOW, LONDON \\nAPRIL 2016\\n\\n•\\nUrban Land (Ceiling And Regulation) Act (ULCRA), 1976  (Repealed \\nw.e.f. 22nd March, 1999)\\n•\\nLand Acquisition Act, 1894\\n•\\nThe Right to Fair Compensation and Transparency in Land \\nAcquisition, Rehabilitation and Resettlement Act, 2013 (w.e.f. 1st\\nJanuary 2014)\\n•\\nState/Local Laws\\nINDIAN PROPERTY SHOW, LONDON \\nAPRIL 2016', mimetype='text/plain', start_char_idx=None, end_char_idx=None, text_template='{metadata_str}\\n\\n{content}', metadata_template='{key}: {value}', metadata_seperator='\\n'), score=0.90001), NodeWithScore(node=TextNode(id_='ImportantLegalPropertyDocuments.txt#chunk_15', embedding=None, metadata={'creation_date': '2024-09-29', 'last_modified_date': '2024-09-29', 'file_name': 'IMPORTANT LEGAL PROPERTY DOCUMENTS.txt', 'file_size': 30649.0, 'file_path': 'E:\\\\Codes\\\\Data Sciene\\\\AI\\\\Real_Estate_Chatbot\\\\app\\\\db\\\\extracted_output\\\\pdf-documents\\\\IMPORTANT LEGAL PROPERTY DOCUMENTS.txt'}, excluded_embed_metadata_keys=[], excluded_llm_metadata_keys=[], relationships={}, text='WILL\\nAccording to Section 2(h) of Indian Succession Act, 1925,”Will’means a \\nlegal declaration of the intention of a testator with respect to his \\nproperty, which he desires to be carried into effect after his death.”\\nAccording to Section 3(64) of General Clauses Act, 1987, “Will as \\nincluding Codicil and every writing making a voluntary posthumous \\ndisposition of property.”\\nAccording to Section 2(d) of Indian Succession Act, 1925 ‘Codicil’\\nmeans an instrument made in relation to Will and explaining, altering or \\nadding to its dispositions and is deemed to form part of the Will.\\nINDIAN PROPERTY SHOW, LONDON \\nAPRIL 2016\\n\\nWHO CAN MAKE THE WILL?\\nEvery person of sound mind, not being minor may dispose of his \\nproperty by WILL. According to Sec. 59 Indian Succession Act, a \\ntestator is presumed to be sane and to have a mental capacity to make \\nvalid WILL. However no person can make WILL while he is in a state \\nof mind arising from intoxication or from illness or from any other \\ncause such that he does not know what he is doing. Even persons who \\nare deaf or dumb or blind can make WILL provided they are aware of \\ntheir action. Further a person who is ordinarily insane, may make his \\nWILL during the interval in which he is of sound mind.\\nINDIAN PROPERTY SHOW, LONDON \\nAPRIL 2016', mimetype='text/plain', start_char_idx=None, end_char_idx=None, text_template='{metadata_str}\\n\\n{content}', metadata_template='{key}: {value}', metadata_seperator='\\n'), score=0.84837073), NodeWithScore(node=TextNode(id_='ImportantLegalPropertyDocuments.txt#chunk_12', embedding=None, metadata={'creation_date': '2024-09-29', 'last_modified_date': '2024-09-29', 'file_name': 'IMPORTANT LEGAL PROPERTY DOCUMENTS.txt', 'file_size': 30649.0, 'file_path': 'E:\\\\Codes\\\\Data Sciene\\\\AI\\\\Real_Estate_Chatbot\\\\app\\\\db\\\\extracted_output\\\\pdf-documents\\\\IMPORTANT LEGAL PROPERTY DOCUMENTS.txt'}, excluded_embed_metadata_keys=[], excluded_llm_metadata_keys=[], relationships={}, text='Difference between Wrongful occupation and unlawful \\noccupation of tenant\\nWrongful occupation relates to the act of unfairness or injustice, \\ncontrary to law, person not entitled to possession. However \\nunlawful means which is in violation of any law not a mere \\nbreach of the terms of the contract. Eg. Occupation of lease \\nproperty even after efflux of time. \\nINDIAN PROPERTY SHOW, LONDON \\nAPRIL 2016\\n\\nGift Deed (Section 122 of Transfer of Property Act, 1882)\\n\"Gift\" is the transfer of certain existing moveable or immoveable \\nproperty made voluntarily and without consideration.\\nSuch acceptance must be made during the lifetime of the donor. \\nIf the donee dies before acceptance, the gift is void. \\nEssentials elements of Gifts:\\n• The absence of consideration\\n• The donor and the donee\\n• The subject-matter\\n• The transfer and the acceptance.\\nINDIAN PROPERTY SHOW, LONDON \\nAPRIL 2016\\n\\nHow to create Gift\\nCan be created by registered instrument signed by or on behalf of \\ndonor and attested by at least two witnesses and a gift deed of \\nimmovable property is required to be registered.\\nWhen acceptance to be made\\nThe acceptance must be made during the lifetime of the donor \\nand while he is still capable of giving. If the donee dies before \\nacceptance, the gift is void.\\nINDIAN PROPERTY SHOW, LONDON \\nAPRIL 2016', mimetype='text/plain', start_char_idx=None, end_char_idx=None, text_template='{metadata_str}\\n\\n{content}', metadata_template='{key}: {value}', metadata_seperator='\\n'), score=0.82830244), NodeWithScore(node=TextNode(id_='ImportantLegalPropertyDocuments.txt#chunk_24', embedding=None, metadata={'creation_date': '2024-09-29', 'last_modified_date': '2024-09-29', 'file_name': 'IMPORTANT LEGAL PROPERTY DOCUMENTS.txt', 'file_size': 30649.0, 'file_path': 'E:\\\\Codes\\\\Data Sciene\\\\AI\\\\Real_Estate_Chatbot\\\\app\\\\db\\\\extracted_output\\\\pdf-documents\\\\IMPORTANT LEGAL PROPERTY DOCUMENTS.txt'}, excluded_embed_metadata_keys=[], excluded_llm_metadata_keys=[], relationships={}, text='An agreement for sale, mortgage, lease, partition, licence etc may be \\ncancelled by the parties with the consent of all parties involved in the \\ntransaction.\\nIn case all the parties do not consent to the cancellation, the affected \\nparty needs to seek the intervention of the court by filing a suit in \\naccordance with the provisions of Section 13 of the Specific Relief Act. \\nIt is important to note that a duly executed and registered deed of \\nconveyance cannot be cancelled by a deed of cancellation only. The \\nparties need to execute a reconveyance deed and get it registered too.\\nINDIAN PROPERTY SHOW, LONDON \\nAPRIL 2016\\n\\nExecution of documents\\nTo \"execute a document\" can mean to bring it into effect.\\nHowever, it can also mean to carry out the formalities (signature, \\nsealing, etc) needed to bring the document into effect, and in this case it \\nprobably means to sign it as one of the principals (rather than simply as \\na witness).\\nINDIAN PROPERTY SHOW, LONDON \\nAPRIL 2016', mimetype='text/plain', start_char_idx=None, end_char_idx=None, text_template='{metadata_str}\\n\\n{content}', metadata_template='{key}: {value}', metadata_seperator='\\n'), score=0.8253837), NodeWithScore(node=TextNode(id_='ImportantLegalPropertyDocuments.txt#chunk_13', embedding=None, metadata={'creation_date': '2024-09-29', 'last_modified_date': '2024-09-29', 'file_name': 'IMPORTANT LEGAL PROPERTY DOCUMENTS.txt', 'file_size': 30649.0, 'file_path': 'E:\\\\Codes\\\\Data Sciene\\\\AI\\\\Real_Estate_Chatbot\\\\app\\\\db\\\\extracted_output\\\\pdf-documents\\\\IMPORTANT LEGAL PROPERTY DOCUMENTS.txt'}, excluded_embed_metadata_keys=[], excluded_llm_metadata_keys=[], relationships={}, text=\"When Gift may Be Suspended or Revoked\\nSection 126 of the Transfer of Property provides following conditions \\nwhen gift may be revoked:\\nThat the donor and donee must have agreed that the gift shall be\\nsuspended or revoked on the happening of a specified event.\\nSuch event must be one which does not depend upon the donor's will.\\nThe donor and donee must have agreed to the condition at the time of \\naccepting the gift and the condition should not be illegal, or immoral and \\nshould not be repugnant to the estate created under the gift.\\nINDIAN PROPERTY SHOW, LONDON \\nAPRIL 2016\\n\\nGift by way of Will\\nA testamentary gift is called a will which comes into operation \\nonly after the death of the transferor. A father can gift his self \\nacquired property to his son/family members for the benefit of \\nthe receiver.\\nGift to Minor\\nGifts can be made to minors through their guardians.\\nINDIAN PROPERTY SHOW, LONDON \\nAPRIL 2016\\n\\nRelinquishment Deed\\nRelinquishment deed is a legal document where a person legally \\ngives up or releases his legal rights of the  property being \\nrelinquished in the name of some other person. This is one of \\nthe modes of transferring immoveable property. As a \\nrelinquishment deed is an legal document by which a person \\nformally gives up his claim to another person, the said deed \\nmust be executed and registered as per law.\\nINDIAN PROPERTY SHOW, LONDON \\nAPRIL 2016\", mimetype='text/plain', start_char_idx=None, end_char_idx=None, text_template='{metadata_str}\\n\\n{content}', metadata_template='{key}: {value}', metadata_seperator='\\n'), score=0.82416517), NodeWithScore(node=TextNode(id_='ImportantLegalPropertyDocuments.txt#chunk_4', embedding=None, metadata={'creation_date': '2024-09-29', 'last_modified_date': '2024-09-29', 'file_name': 'IMPORTANT LEGAL PROPERTY DOCUMENTS.txt', 'file_size': 30649.0, 'file_path': 'E:\\\\Codes\\\\Data Sciene\\\\AI\\\\Real_Estate_Chatbot\\\\app\\\\db\\\\extracted_output\\\\pdf-documents\\\\IMPORTANT LEGAL PROPERTY DOCUMENTS.txt'}, excluded_embed_metadata_keys=[], excluded_llm_metadata_keys=[], relationships={}, text='Instrument\\nInstrument is a legal document. Section 3 of Transfer of Property Act defines \\ninstrument as a non-testamentary instrument. This Act does not deal with testamentary \\ntransfer such as will etc. However instrument can be understood to be a legal document.\\nAttested\\nIn relation to instrument means an instrument attested by two or more witnesses. No \\nparticular form of attestation is required. (Section 3 Of TP Act)\\nRegistered\\nFor registration of a document it is necessary to fulfill all requirements of the \\nRegistration Act, 1908.\\nTransfer of Property\\nAn Act by which a living person conveys property in present or in future to one or more \\nother living persons or to himself and one or more other living persons. Living persons \\ninclude company, association, body of individuals etc.\\nINDIAN PROPERTY SHOW, LONDON \\nAPRIL 2016', mimetype='text/plain', start_char_idx=None, end_char_idx=None, text_template='{metadata_str}\\n\\n{content}', metadata_template='{key}: {value}', metadata_seperator='\\n'), score=0.82057357), NodeWithScore(node=TextNode(id_='ImportantLegalPropertyDocuments.txt#chunk_19', embedding=None, metadata={'creation_date': '2024-09-29', 'last_modified_date': '2024-09-29', 'file_name': 'IMPORTANT LEGAL PROPERTY DOCUMENTS.txt', 'file_size': 30649.0, 'file_path': 'E:\\\\Codes\\\\Data Sciene\\\\AI\\\\Real_Estate_Chatbot\\\\app\\\\db\\\\extracted_output\\\\pdf-documents\\\\IMPORTANT LEGAL PROPERTY DOCUMENTS.txt'}, excluded_embed_metadata_keys=[], excluded_llm_metadata_keys=[], relationships={}, text='The Power of Attorney can be classified into three categories which \\nincludes:\\nGeneral Power of Attorney\\nA general power of attorney is one by which an instrument is executed \\nby the principal authorizing the agent to do certain acts in general on his \\nbehalf. The word ‘General’ here means that the power must be general \\nregarding the subject matter and not general with regard to powers in \\nrespect of a subject matter.\\nINDIAN PROPERTY SHOW, LONDON \\nAPRIL 2016\\n\\nSpecial Power of Attorney\\nA special power of attorney is one by which a person is appointed by the \\nprincipal to do some specified act or acts. \\nIrrevocable Power of Attorney\\nWhen the Power of Attorney cannot be revoked or cancelled.\\nCompulsory Registration\\nPower of Attorney Deed authorizing sale of immovable property are \\nrequired to be compulsorily registered under Section 17 of Registration Act, \\n1908.\\nDuration\\nIf any express period is not mentioned in the Power of Attorney then the \\nsame is operative and effective till the same is not cancelled or death of the \\ndonor.\\nINDIAN PROPERTY SHOW, LONDON \\nAPRIL 2016', mimetype='text/plain', start_char_idx=None, end_char_idx=None, text_template='{metadata_str}\\n\\n{content}', metadata_template='{key}: {value}', metadata_seperator='\\n'), score=0.8192344), NodeWithScore(node=TextNode(id_='ImportantLegalPropertyDocuments.txt#chunk_8', embedding=None, metadata={'creation_date': '2024-09-29', 'last_modified_date': '2024-09-29', 'file_name': 'IMPORTANT LEGAL PROPERTY DOCUMENTS.txt', 'file_size': 30649.0, 'file_path': 'E:\\\\Codes\\\\Data Sciene\\\\AI\\\\Real_Estate_Chatbot\\\\app\\\\db\\\\extracted_output\\\\pdf-documents\\\\IMPORTANT LEGAL PROPERTY DOCUMENTS.txt'}, excluded_embed_metadata_keys=[], excluded_llm_metadata_keys=[], relationships={}, text='•\\nThe sale deed must explicitly convey that the title of the property has \\nbeen transferred absolutely for lawful consideration and that the \\nvendee is put in the possession of the property.\\n•\\nRegistration of Sale Deed is compulsory .\\n•\\nSale deed is admissible as evidence.\\n•\\nRegistration helps in avoidance of creation of any new title other than \\nthat possessed by the vendor.\\n•\\nDuring the time period between the date of execution of the sale deed \\nand completion of its registration the vendee cannot act as the owner \\nof the property and the vendor is morally liable to protect the title and \\npossession of the property.\\nINDIAN PROPERTY SHOW, LONDON \\nAPRIL 2016\\n\\n•\\nOnce a sale deed is executed the vendor/vendee cannot deny the facts \\nor admissions contained therein. Unless same is made due to (a) \\nmisconception of law (b) mistake of facts (c) fraud (d) duress (e) \\ncoercion (f) pressure.\\n•\\nOn execution of a registered sale deed, the vendor cannot on his own \\ncancel the same and execute another sale deed in favour of any third \\nparty with respect to the same property.\\n•\\nPayment for consideration is not a condition precedent for transfer of \\nproperty. however if the same is not made as per the terms of the \\ndeed then the vendor can initiate recovery proceedings as per law.\\nINDIAN PROPERTY SHOW, LONDON \\nAPRIL 2016', mimetype='text/plain', start_char_idx=None, end_char_idx=None, text_template='{metadata_str}\\n\\n{content}', metadata_template='{key}: {value}', metadata_seperator='\\n'), score=0.8148638), NodeWithScore(node=TextNode(id_='ImportantLegalPropertyDocuments.txt#chunk_14', embedding=None, metadata={'creation_date': '2024-09-29', 'last_modified_date': '2024-09-29', 'file_name': 'IMPORTANT LEGAL PROPERTY DOCUMENTS.txt', 'file_size': 30649.0, 'file_path': 'E:\\\\Codes\\\\Data Sciene\\\\AI\\\\Real_Estate_Chatbot\\\\app\\\\db\\\\extracted_output\\\\pdf-documents\\\\IMPORTANT LEGAL PROPERTY DOCUMENTS.txt'}, excluded_embed_metadata_keys=[], excluded_llm_metadata_keys=[], relationships={}, text='Easement\\nAs per section 4 of the Easement Act, 1882 which defines \"Easement“.\\nAn easement is a right which the owner or occupier of certain land possesses, \\nas such, for the beneficial enjoyment of that land, to do and continue to do \\nsomething, or to prevent and continue to prevent something being done, in or \\nupon, or in respect of, certain other land not his own. \\nSuccession\\nThe rights and obligations of the deceased person get transferred to the \\nliving person under the process of succession. They pass to some person, \\nwhom the dead person or the law on his behalf, has appointed to represent \\nhim in the world of living.\\nINDIAN PROPERTY SHOW, LONDON \\nAPRIL 2016\\n\\nSuccession depends on\\n•\\nThe law applicable to the deceased at the time of his/her death and \\nfurther whether the succession will be; \\n•\\nTestamentary under Will of the deceased, or\\n•\\nIntestate in the absence of valid Will, or\\n•\\nOperation of law, by nomination, transmission,\\n•\\nThe nature of property or rights and obligations held by the \\ndeceased at the time of death.\\nIn 2005, after the amendment of Section 6 of the Hindu Succession \\nAct, 1956, daughters are given equal rights with the sons including \\ncoparcenary property. Earlier daughters had no share in HUF \\nproperties. \\nINDIAN PROPERTY SHOW, LONDON \\nAPRIL 2016', mimetype='text/plain', start_char_idx=None, end_char_idx=None, text_template='{metadata_str}\\n\\n{content}', metadata_template='{key}: {value}', metadata_seperator='\\n'), score=0.8187084), NodeWithScore(node=TextNode(id_='ImportantLegalPropertyDocuments.txt#chunk_10', embedding=None, metadata={'creation_date': '2024-09-29', 'last_modified_date': '2024-09-29', 'file_name': 'IMPORTANT LEGAL PROPERTY DOCUMENTS.txt', 'file_size': 30649.0, 'file_path': 'E:\\\\Codes\\\\Data Sciene\\\\AI\\\\Real_Estate_Chatbot\\\\app\\\\db\\\\extracted_output\\\\pdf-documents\\\\IMPORTANT LEGAL PROPERTY DOCUMENTS.txt'}, excluded_embed_metadata_keys=[], excluded_llm_metadata_keys=[], relationships={}, text='Rights and Liabilities of the Lessor\\n1.\\nThe lessor is bound to disclose all material defects in the property to \\nthe lessee. However, he need not disclose the defects which are \\ndiscoverable with ordinary care. This is based on the principle of \\n\"Caveat Emptor“ (Let the buyer be aware).\\n2.\\nThe lessor is bound to put the lessee in possession of the leased \\nproperty. The lessee however must first request the lessor to put him \\nin possession. If the lessee does not do so and fails to take \\npossession, then he must not pay the rent for lease.\\nINDIAN PROPERTY SHOW, LONDON \\nAPRIL 2016\\n\\n3.\\nThe Lessee has right to have free and quiet enjoyment of the \\nproperty. The covenant for title runs with the land.\\n4.\\nIf the lessor transfers the leased property, then the transferee gets \\nall the rights and liabilities of the lessor. However, for making the \\ntransferee liable, the lessee must elect to treat the transferee as the \\nperson liable to him. Further, the transferee is not entitled to any \\narrears of rent due before the transfer.\\nINDIAN PROPERTY SHOW, LONDON \\nAPRIL 2016', mimetype='text/plain', start_char_idx=None, end_char_idx=None, text_template='{metadata_str}\\n\\n{content}', metadata_template='{key}: {value}', metadata_seperator='\\n'), score=0.8194955), NodeWithScore(node=TextNode(id_='ImportantLegalPropertyDocuments.txt#chunk_9', embedding=None, metadata={'creation_date': '2024-09-29', 'last_modified_date': '2024-09-29', 'file_name': 'IMPORTANT LEGAL PROPERTY DOCUMENTS.txt', 'file_size': 30649.0, 'file_path': 'E:\\\\Codes\\\\Data Sciene\\\\AI\\\\Real_Estate_Chatbot\\\\app\\\\db\\\\extracted_output\\\\pdf-documents\\\\IMPORTANT LEGAL PROPERTY DOCUMENTS.txt'}, excluded_embed_metadata_keys=[], excluded_llm_metadata_keys=[], relationships={}, text='•\\nUnregistered sale deeds shall not affect the property and neither shall \\nconfer any powers nor shall be admissible as evidence. Unless \\nreceived for collateral purposes.\\n•\\nMisdescription of the property is rectifiable.\\n•\\nA sale deed is a contract and can be cancelled under the Specific \\nRelief Act on grounds of being voidable, terminable or unlawful or \\nby decree of competent court.\\n•\\nA registered sale deed can be cancelled by a court of competent \\njurisdiction.\\nINDIAN PROPERTY SHOW, LONDON \\nAPRIL 2016\\n\\nLease Agreement\\nAs per Section 105 of the TP Act a lease of immovable property \\ninvolves the transfer of the right to enjoy, use and occupy the property, \\nby the transferor to the transferee, for a certain period of time at a \\nprice. The lease rentals represent the consideration for the lease \\ntransaction. The existence of the leased asset is an essential element of \\na lease transaction.\\nINDIAN PROPERTY SHOW, LONDON \\nAPRIL 2016\\n\\nLease how made\\nAn agreement to lease is required to be registered with the Sub-\\nRegistrar of Assurances, constituted under the Indian Registration Act. \\nProvisions regarding registration are contained in both Sec. 107 of the \\nTransfer of Property Act and in Sec. 17 of the Indian Registration Act. \\nUnder both these provisions, leases of immovable property from year to \\nyear or, for any term exceeding one year or, reserving a yearly rent, \\nhave to be registered.\\nINDIAN PROPERTY SHOW, LONDON \\nAPRIL 2016', mimetype='text/plain', start_char_idx=None, end_char_idx=None, text_template='{metadata_str}\\n\\n{content}', metadata_template='{key}: {value}', metadata_seperator='\\n'), score=0.8211649), NodeWithScore(node=TextNode(id_='ImportantLegalPropertyDocuments.txt#chunk_1', embedding=None, metadata={'creation_date': '2024-09-29', 'last_modified_date': '2024-09-29', 'file_name': 'IMPORTANT LEGAL PROPERTY DOCUMENTS.txt', 'file_size': 30649.0, 'file_path': 'E:\\\\Codes\\\\Data Sciene\\\\AI\\\\Real_Estate_Chatbot\\\\app\\\\db\\\\extracted_output\\\\pdf-documents\\\\IMPORTANT LEGAL PROPERTY DOCUMENTS.txt'}, excluded_embed_metadata_keys=[], excluded_llm_metadata_keys=[], relationships={}, text='Introduction\\nThe legal document of property transaction refers to a valid legally enforceable contract \\nby which rights in the property are determined. One should take note of the following \\nrequirements in such documents:\\n•To decide and agree on terms and conditions of the transactions.\\n•To find out the title of the property to be free from all encumbrances and marketable.\\n•To find out, if there are any legal obligations.\\n•To find out that such transfer is not prohibited under the law.\\n•Contracting parties are not minor.\\n•None of the parties is of unsound mind.\\n•HUF rights in ancestral property.\\n•Previous rights created to be examined.\\n•Free consent, misrepresentation or undue influence or coercion in the transaction.\\n•There should be no fraud.\\n•The agreement is not a result of mistake.\\nINDIAN PROPERTY SHOW, LONDON \\nAPRIL 2016\\n\\nProperty Transactions\\nProperty transactions refers to transactions relating to property by which some \\nrights, privileges and or encumbrances are created. Transactions relating to \\nproperty ultimately translates into various rights and duties and liabilities which \\nare documented by way of various types of documents such as: \\n•Agreement to Sell.\\n•Sale Deed.\\n•Lease Agreement.\\n•Mortgage Deed.\\n•Gift Deed.\\n•Will.\\n•Easement.\\n•Relinquishment.\\n•Family Settlements.\\n•Partition Deed.\\n•Power of Attorney.\\n•Cancellation and Rectification Deed.\\n•Joint Development Agreement.\\nINDIAN PROPERTY SHOW, LONDON \\nAPRIL 2016', mimetype='text/plain', start_char_idx=None, end_char_idx=None, text_template='{metadata_str}\\n\\n{content}', metadata_template='{key}: {value}', metadata_seperator='\\n'), score=0.825005), NodeWithScore(node=TextNode(id_='ImportantLegalPropertyDocuments.txt#chunk_0', embedding=None, metadata={'creation_date': '2024-09-29', 'last_modified_date': '2024-09-29', 'file_name': 'IMPORTANT LEGAL PROPERTY DOCUMENTS.txt', 'file_size': 30649.0, 'file_path': 'E:\\\\Codes\\\\Data Sciene\\\\AI\\\\Real_Estate_Chatbot\\\\app\\\\db\\\\extracted_output\\\\pdf-documents\\\\IMPORTANT LEGAL PROPERTY DOCUMENTS.txt'}, excluded_embed_metadata_keys=[], excluded_llm_metadata_keys=[], relationships={}, text='PROPERTY TRANSACTIONS \\nAND \\nDOCUMENTATION\\nINDIAN PROPERTY SHOW AT LONDON\\nAPRIL 2016\\n\\nLegal Document\\nA document determines contractual relationship between the parties and \\ndefines their respective rights and privileges on one hand and their \\nrespective obligations and duties on the other hand and it can be used to \\nfurnish decisive evidence or information.\\nIn short a legal document is any written instrument that defines, \\ndeclares, limits, or expands the legal rights or privileges and duties or \\nobligations of a person or entity.\\nSome of the obvious legal documents are like Sale Deed, Power of \\nAttorney, Agreement to Sell,  Will, Lease agreement etc. some of\\nelectronic documents are Digital Signatures, E-contracts, Faxes, E-mails \\netc.\\nINDIAN PROPERTY SHOW, LONDON \\nAPRIL 2016', mimetype='text/plain', start_char_idx=None, end_char_idx=None, text_template='{metadata_str}\\n\\n{content}', metadata_template='{key}: {value}', metadata_seperator='\\n'), score=0.82709837), NodeWithScore(node=TextNode(id_='ImportantLegalPropertyDocuments.txt#chunk_3', embedding=None, metadata={'creation_date': '2024-09-29', 'last_modified_date': '2024-09-29', 'file_name': 'IMPORTANT LEGAL PROPERTY DOCUMENTS.txt', 'file_size': 30649.0, 'file_path': 'E:\\\\Codes\\\\Data Sciene\\\\AI\\\\Real_Estate_Chatbot\\\\app\\\\db\\\\extracted_output\\\\pdf-documents\\\\IMPORTANT LEGAL PROPERTY DOCUMENTS.txt'}, excluded_embed_metadata_keys=[], excluded_llm_metadata_keys=[], relationships={}, text='Important terminologies used in  property transaction\\nImmovable Property:\\nSection 3 of Transfer of Property Act defines immovable property as \\n“immovable property” does not include standing timber, growing crops or grass. \\nThis definition is neither comprehensive nor exhaustive and only exclude certain \\nthings.\\nHowever, section 17 of the Registration Act, 1908 defines the term immovable \\nproperty as follows “immovable property shall include land, benefit to arise out \\nof land and things attached to the earth or permanently fastened to anything \\nattached to the earth”.\\nSection 3(25) of General Clauses Act, 1897 defines immovable property to \\ninclude land, benefit to arise out of land and things attached to the earth or \\npermanently fastened to anything attached to the earth.\\nINDIAN PROPERTY SHOW, LONDON \\nAPRIL 2016', mimetype='text/plain', start_char_idx=None, end_char_idx=None, text_template='{metadata_str}\\n\\n{content}', metadata_template='{key}: {value}', metadata_seperator='\\n'), score=0.8359728), NodeWithScore(node=TextNode(id_='ImportantLegalPropertyDocuments.txt#chunk_7', embedding=None, metadata={'creation_date': '2024-09-29', 'last_modified_date': '2024-09-29', 'file_name': 'IMPORTANT LEGAL PROPERTY DOCUMENTS.txt', 'file_size': 30649.0, 'file_path': 'E:\\\\Codes\\\\Data Sciene\\\\AI\\\\Real_Estate_Chatbot\\\\app\\\\db\\\\extracted_output\\\\pdf-documents\\\\IMPORTANT LEGAL PROPERTY DOCUMENTS.txt'}, excluded_embed_metadata_keys=[], excluded_llm_metadata_keys=[], relationships={}, text='Legal Owner\\nUnlike English law, Indian law does not draw any distinction between \\nlegal and equitable property and owner. It recognizes only one ownership \\nin respect of immovable property i.e. legal ownership.\\nEssential ingredients\\nAmount and terms of consideration, dates of payment, break up of\\npayments etc.\\nParticulars of the parties and the property.\\nTime of transfer and possession of the property. \\nOther terms relating to the transfer.\\nINDIAN PROPERTY SHOW, LONDON \\nAPRIL 2016\\n\\nSale Deed\\n‘SALE DEED’ is a legal written document executed by the vendor and \\nthe purchaser which evidences the sale and transfer of ownership of the \\ntangible immovable property. Sale deed is governed by ‘The \\nRegistration Act, 1908’. Sale deed is the main document which gives \\ndetails of how the seller got the property, at what consideration the \\nseller is selling the property and assurance to the purchaser that the \\nproperty is free from encumbrances and liabilities. \\nINDIAN PROPERTY SHOW, LONDON \\nAPRIL 2016', mimetype='text/plain', start_char_idx=None, end_char_idx=None, text_template='{metadata_str}\\n\\n{content}', metadata_template='{key}: {value}', metadata_seperator='\\n'), score=0.8563135)], metadata={'ImportantLegalPropertyDocuments.txt#chunk_2': {'creation_date': '2024-09-29', 'last_modified_date': '2024-09-29', 'file_name': 'IMPORTANT LEGAL PROPERTY DOCUMENTS.txt', 'file_size': 30649.0, 'file_path': 'E:\\\\Codes\\\\Data Sciene\\\\AI\\\\Real_Estate_Chatbot\\\\app\\\\db\\\\extracted_output\\\\pdf-documents\\\\IMPORTANT LEGAL PROPERTY DOCUMENTS.txt'}, 'ImportantLegalPropertyDocuments.txt#chunk_15': {'creation_date': '2024-09-29', 'last_modified_date': '2024-09-29', 'file_name': 'IMPORTANT LEGAL PROPERTY DOCUMENTS.txt', 'file_size': 30649.0, 'file_path': 'E:\\\\Codes\\\\Data Sciene\\\\AI\\\\Real_Estate_Chatbot\\\\app\\\\db\\\\extracted_output\\\\pdf-documents\\\\IMPORTANT LEGAL PROPERTY DOCUMENTS.txt'}, 'ImportantLegalPropertyDocuments.txt#chunk_12': {'creation_date': '2024-09-29', 'last_modified_date': '2024-09-29', 'file_name': 'IMPORTANT LEGAL PROPERTY DOCUMENTS.txt', 'file_size': 30649.0, 'file_path': 'E:\\\\Codes\\\\Data Sciene\\\\AI\\\\Real_Estate_Chatbot\\\\app\\\\db\\\\extracted_output\\\\pdf-documents\\\\IMPORTANT LEGAL PROPERTY DOCUMENTS.txt'}, 'ImportantLegalPropertyDocuments.txt#chunk_24': {'creation_date': '2024-09-29', 'last_modified_date': '2024-09-29', 'file_name': 'IMPORTANT LEGAL PROPERTY DOCUMENTS.txt', 'file_size': 30649.0, 'file_path': 'E:\\\\Codes\\\\Data Sciene\\\\AI\\\\Real_Estate_Chatbot\\\\app\\\\db\\\\extracted_output\\\\pdf-documents\\\\IMPORTANT LEGAL PROPERTY DOCUMENTS.txt'}, 'ImportantLegalPropertyDocuments.txt#chunk_13': {'creation_date': '2024-09-29', 'last_modified_date': '2024-09-29', 'file_name': 'IMPORTANT LEGAL PROPERTY DOCUMENTS.txt', 'file_size': 30649.0, 'file_path': 'E:\\\\Codes\\\\Data Sciene\\\\AI\\\\Real_Estate_Chatbot\\\\app\\\\db\\\\extracted_output\\\\pdf-documents\\\\IMPORTANT LEGAL PROPERTY DOCUMENTS.txt'}, 'ImportantLegalPropertyDocuments.txt#chunk_4': {'creation_date': '2024-09-29', 'last_modified_date': '2024-09-29', 'file_name': 'IMPORTANT LEGAL PROPERTY DOCUMENTS.txt', 'file_size': 30649.0, 'file_path': 'E:\\\\Codes\\\\Data Sciene\\\\AI\\\\Real_Estate_Chatbot\\\\app\\\\db\\\\extracted_output\\\\pdf-documents\\\\IMPORTANT LEGAL PROPERTY DOCUMENTS.txt'}, 'ImportantLegalPropertyDocuments.txt#chunk_19': {'creation_date': '2024-09-29', 'last_modified_date': '2024-09-29', 'file_name': 'IMPORTANT LEGAL PROPERTY DOCUMENTS.txt', 'file_size': 30649.0, 'file_path': 'E:\\\\Codes\\\\Data Sciene\\\\AI\\\\Real_Estate_Chatbot\\\\app\\\\db\\\\extracted_output\\\\pdf-documents\\\\IMPORTANT LEGAL PROPERTY DOCUMENTS.txt'}, 'ImportantLegalPropertyDocuments.txt#chunk_8': {'creation_date': '2024-09-29', 'last_modified_date': '2024-09-29', 'file_name': 'IMPORTANT LEGAL PROPERTY DOCUMENTS.txt', 'file_size': 30649.0, 'file_path': 'E:\\\\Codes\\\\Data Sciene\\\\AI\\\\Real_Estate_Chatbot\\\\app\\\\db\\\\extracted_output\\\\pdf-documents\\\\IMPORTANT LEGAL PROPERTY DOCUMENTS.txt'}, 'ImportantLegalPropertyDocuments.txt#chunk_14': {'creation_date': '2024-09-29', 'last_modified_date': '2024-09-29', 'file_name': 'IMPORTANT LEGAL PROPERTY DOCUMENTS.txt', 'file_size': 30649.0, 'file_path': 'E:\\\\Codes\\\\Data Sciene\\\\AI\\\\Real_Estate_Chatbot\\\\app\\\\db\\\\extracted_output\\\\pdf-documents\\\\IMPORTANT LEGAL PROPERTY DOCUMENTS.txt'}, 'ImportantLegalPropertyDocuments.txt#chunk_10': {'creation_date': '2024-09-29', 'last_modified_date': '2024-09-29', 'file_name': 'IMPORTANT LEGAL PROPERTY DOCUMENTS.txt', 'file_size': 30649.0, 'file_path': 'E:\\\\Codes\\\\Data Sciene\\\\AI\\\\Real_Estate_Chatbot\\\\app\\\\db\\\\extracted_output\\\\pdf-documents\\\\IMPORTANT LEGAL PROPERTY DOCUMENTS.txt'}, 'ImportantLegalPropertyDocuments.txt#chunk_9': {'creation_date': '2024-09-29', 'last_modified_date': '2024-09-29', 'file_name': 'IMPORTANT LEGAL PROPERTY DOCUMENTS.txt', 'file_size': 30649.0, 'file_path': 'E:\\\\Codes\\\\Data Sciene\\\\AI\\\\Real_Estate_Chatbot\\\\app\\\\db\\\\extracted_output\\\\pdf-documents\\\\IMPORTANT LEGAL PROPERTY DOCUMENTS.txt'}, 'ImportantLegalPropertyDocuments.txt#chunk_1': {'creation_date': '2024-09-29', 'last_modified_date': '2024-09-29', 'file_name': 'IMPORTANT LEGAL PROPERTY DOCUMENTS.txt', 'file_size': 30649.0, 'file_path': 'E:\\\\Codes\\\\Data Sciene\\\\AI\\\\Real_Estate_Chatbot\\\\app\\\\db\\\\extracted_output\\\\pdf-documents\\\\IMPORTANT LEGAL PROPERTY DOCUMENTS.txt'}, 'ImportantLegalPropertyDocuments.txt#chunk_0': {'creation_date': '2024-09-29', 'last_modified_date': '2024-09-29', 'file_name': 'IMPORTANT LEGAL PROPERTY DOCUMENTS.txt', 'file_size': 30649.0, 'file_path': 'E:\\\\Codes\\\\Data Sciene\\\\AI\\\\Real_Estate_Chatbot\\\\app\\\\db\\\\extracted_output\\\\pdf-documents\\\\IMPORTANT LEGAL PROPERTY DOCUMENTS.txt'}, 'ImportantLegalPropertyDocuments.txt#chunk_3': {'creation_date': '2024-09-29', 'last_modified_date': '2024-09-29', 'file_name': 'IMPORTANT LEGAL PROPERTY DOCUMENTS.txt', 'file_size': 30649.0, 'file_path': 'E:\\\\Codes\\\\Data Sciene\\\\AI\\\\Real_Estate_Chatbot\\\\app\\\\db\\\\extracted_output\\\\pdf-documents\\\\IMPORTANT LEGAL PROPERTY DOCUMENTS.txt'}, 'ImportantLegalPropertyDocuments.txt#chunk_7': {'creation_date': '2024-09-29', 'last_modified_date': '2024-09-29', 'file_name': 'IMPORTANT LEGAL PROPERTY DOCUMENTS.txt', 'file_size': 30649.0, 'file_path': 'E:\\\\Codes\\\\Data Sciene\\\\AI\\\\Real_Estate_Chatbot\\\\app\\\\db\\\\extracted_output\\\\pdf-documents\\\\IMPORTANT LEGAL PROPERTY DOCUMENTS.txt'}})"
      ]
     },
     "execution_count": 100,
     "metadata": {},
     "output_type": "execute_result"
    }
   ],
   "source": [
    "result"
   ]
  },
  {
   "cell_type": "code",
   "execution_count": 42,
   "metadata": {},
   "outputs": [],
   "source": [
    "query_tool = LlamaIndexTool.from_query_engine(\n",
    "    query_engine,\n",
    "    name=\"Real Estate Bot\",\n",
    "    description=\"This tool is a real estate chatbot that helps answer property-related queries, including available listings, BHK details, facilities, and other relevant real estate information using context from the retrieved documents.\"\n",
    ")"
   ]
  },
  {
   "cell_type": "code",
   "execution_count": 43,
   "metadata": {},
   "outputs": [],
   "source": [
    "llm = LLM(\n",
    "    model = 'groq/llama-3.1-70b-versatile',\n",
    "    api_key=os.environ.get(\"GROQ_API_KEY\")\n",
    ")"
   ]
  },
  {
   "cell_type": "code",
   "execution_count": 44,
   "metadata": {},
   "outputs": [
    {
     "name": "stderr",
     "output_type": "stream",
     "text": [
      "2024-09-29 23:05:16,145 - 13712 - __init__.py-__init__:538 - WARNING: Overriding of current TracerProvider is not allowed\n"
     ]
    }
   ],
   "source": [
    "# Define the Real Estate Researcher agent\n",
    "real_estate_agent = Agent(\n",
    "    role=\"Real Estate Information Provider\",\n",
    "    goal=\"Provide tailored responses and retrieve relevant information from the document according to the user's query: {input}\",\n",
    "    backstory=\"\"\"An expert in finding and filtering relevant information from the provided documents or databases.\n",
    "    Your goal is to give concise and accurate information based on the user's query.\"\"\",\n",
    "    llm=llm,\n",
    "    tools=[query_tool],  # Pass the real estate bot query tool\n",
    "    verbose=True,\n",
    ")\n",
    "\n",
    "# Define the task for the agent\n",
    "real_estate_task = Task(\n",
    "    agent=real_estate_agent,\n",
    "    description=\"\"\"Your task is to filter and retrieve the most relevant information from the document based on the user's query: {input}.\n",
    "    Never provide any information outside of the document. If you don't know the answer, simply say that you don't know. Never give incorrect information.\"\"\",\n",
    "    expected_output=\"The output should be a single paragraph.\",\n",
    "    output_file='./output_crew_ai.txt'\n",
    ")\n",
    "\n",
    "# Create the Crew instance\n",
    "my_crew = Crew(agents=[real_estate_agent], tasks=[real_estate_task])"
   ]
  },
  {
   "cell_type": "code",
   "execution_count": 51,
   "metadata": {},
   "outputs": [
    {
     "name": "stdout",
     "output_type": "stream",
     "text": [
      "\u001b[1m\u001b[95m# Agent:\u001b[00m \u001b[1m\u001b[92mReal Estate Information Provider\u001b[00m\n",
      "\u001b[95m## Task:\u001b[00m \u001b[92mYour task is to filter and retrieve the most relevant information from the document based on the user's query: Are there any properties in jaipur.\n",
      "    Never provide any information outside of the document. If you don't know the answer, simply say that you don't know. Never give incorrect information.\u001b[00m\n",
      "\n",
      "\n",
      "\u001b[1m\u001b[95m# Agent:\u001b[00m \u001b[1m\u001b[92mReal Estate Information Provider\u001b[00m\n",
      "\u001b[95m## Thought:\u001b[00m \u001b[92mThought: The user is searching for properties in Jaipur, I should use the Real Estate Bot tool to query the available properties.\u001b[00m\n",
      "\u001b[95m## Using tool:\u001b[00m \u001b[92mReal Estate Bot\u001b[00m\n",
      "\u001b[95m## Tool Input:\u001b[00m \u001b[92m\n",
      "\"{\\\"query\\\": \\\"properties in Jaipur\\\"}\"\u001b[00m\n",
      "\u001b[95m## Tool Output:\u001b[00m \u001b[92m\n",
      "You can find various properties for sale in Jaipur, including Flats, across different localities such as Bhankrota, with different configurations and varying sizes, with prices starting from different ranges.\n",
      "\n",
      "\n",
      "You ONLY have access to the following tools, and should NEVER make up tools that are not listed here:\n",
      "\n",
      "Tool Name: Real Estate Bot(*args: Any, **kwargs: Any) -> Any\n",
      "Tool Description: Real Estate Bot(query: 'string') - This tool is a real estate chatbot that helps answer property-related queries, including available listings, BHK details, facilities, and other relevant real estate information using context from the retrieved documents. query: 'Search query for the query tool.'\n",
      "Tool Arguments: {'query': {'description': 'Search query for the query tool.', 'title': 'Query', 'type': 'string'}}\n",
      "\n",
      "Use the following format:\n",
      "\n",
      "Thought: you should always think about what to do\n",
      "Action: the action to take, only one name of [Real Estate Bot], just the name, exactly as it's written.\n",
      "Action Input: the input to the action, just a simple python dictionary, enclosed in curly braces, using \" to wrap keys and values.\n",
      "Observation: the result of the action\n",
      "\n",
      "Once all necessary information is gathered:\n",
      "\n",
      "Thought: I now know the final answer\n",
      "Final Answer: the final answer to the original input question\n",
      "\u001b[00m\n",
      "\n",
      "\n",
      "\u001b[1m\u001b[95m# Agent:\u001b[00m \u001b[1m\u001b[92mReal Estate Information Provider\u001b[00m\n",
      "\u001b[95m## Thought:\u001b[00m \u001b[92mI'll start again.\n",
      "Thought: The user is searching for properties in Jaipur, I should use the Real Estate Bot tool to query the available properties.\u001b[00m\n",
      "\u001b[95m## Using tool:\u001b[00m \u001b[92mReal Estate Bot\u001b[00m\n",
      "\u001b[95m## Tool Input:\u001b[00m \u001b[92m\n",
      "\"{\\\"query\\\": \\\"properties in Jaipur\\\"}\"\u001b[00m\n",
      "\u001b[95m## Tool Output:\u001b[00m \u001b[92m\n",
      "I tried reusing the same input, I must stop using this action input. I'll try something else instead.\n",
      "\n",
      "\u001b[00m\n",
      "\n",
      "\n",
      "\u001b[1m\u001b[95m# Agent:\u001b[00m \u001b[1m\u001b[92mReal Estate Information Provider\u001b[00m\n",
      "\u001b[95m## Thought:\u001b[00m \u001b[92mThought: Since the previous action didn't yield the desired result, I should rephrase the query and try again to gather more relevant information about properties in Jaipur.\u001b[00m\n",
      "\u001b[95m## Using tool:\u001b[00m \u001b[92mReal Estate Bot\u001b[00m\n",
      "\u001b[95m## Tool Input:\u001b[00m \u001b[92m\n",
      "\"{\\\"query\\\": \\\"available properties in Jaipur\\\"}\"\u001b[00m\n",
      "\u001b[95m## Tool Output:\u001b[00m \u001b[92m\n",
      "Available properties in Jaipur include 1 BHK, 2 BHK, 3 BHK, 4 BHK, 5 BHK, and 1 RK properties for rent, as well as various types of properties such as office spaces, warehouses, showrooms, independent houses, and more.\u001b[00m\n",
      "\n",
      "\n",
      "\u001b[1m\u001b[95m# Agent:\u001b[00m \u001b[1m\u001b[92mReal Estate Information Provider\u001b[00m\n",
      "\u001b[95m## Thought:\u001b[00m \u001b[92mThought: I now have more information about properties in Jaipur, but I need to provide a specific answer to the user's query. I should try to gather more specific details about the properties available.\u001b[00m\n",
      "\u001b[95m## Using tool:\u001b[00m \u001b[92mReal Estate Bot\u001b[00m\n",
      "\u001b[95m## Tool Input:\u001b[00m \u001b[92m\n",
      "\"{\\\"query\\\": \\\"list of properties available in Jaipur\\\"}\"\u001b[00m\n",
      "\u001b[95m## Tool Output:\u001b[00m \u001b[92m\n",
      "The list of properties available in Jaipur includes:\n",
      "\n",
      "1. Office Space for Rent \n",
      "2. Flats / Apartments for Rent \n",
      "3. Warehouse / Godown for Rent \n",
      "4. Showrooms for Rent \n",
      "5. Independent House for Rent \n",
      "6. Commercial Shops for Rent \n",
      "7. Builder Floor for Rent \n",
      "8. Commercial Plots for Rent \n",
      "9. Factory for Rent \n",
      "10. Industrial Land for Rent \n",
      "11. Hotel & Restaurant for Rent \n",
      "12. Residential Land / Plots for Rent \n",
      "13. Farm / Agricultural Land for Rent \n",
      "14. Business Center for Rent \n",
      "15. Guest House for Rent \n",
      "16. Villa for Rent \n",
      "17. Farm House for Rent \n",
      "18. Studio Apartments for Rent\n",
      "\n",
      "\n",
      "You ONLY have access to the following tools, and should NEVER make up tools that are not listed here:\n",
      "\n",
      "Tool Name: Real Estate Bot(*args: Any, **kwargs: Any) -> Any\n",
      "Tool Description: Real Estate Bot(query: 'string') - This tool is a real estate chatbot that helps answer property-related queries, including available listings, BHK details, facilities, and other relevant real estate information using context from the retrieved documents. query: 'Search query for the query tool.'\n",
      "Tool Arguments: {'query': {'description': 'Search query for the query tool.', 'title': 'Query', 'type': 'string'}}\n",
      "\n",
      "Use the following format:\n",
      "\n",
      "Thought: you should always think about what to do\n",
      "Action: the action to take, only one name of [Real Estate Bot], just the name, exactly as it's written.\n",
      "Action Input: the input to the action, just a simple python dictionary, enclosed in curly braces, using \" to wrap keys and values.\n",
      "Observation: the result of the action\n",
      "\n",
      "Once all necessary information is gathered:\n",
      "\n",
      "Thought: I now know the final answer\n",
      "Final Answer: the final answer to the original input question\n",
      "\u001b[00m\n",
      "\n",
      "\n",
      "\u001b[1m\u001b[95m# Agent:\u001b[00m \u001b[1m\u001b[92mReal Estate Information Provider\u001b[00m\n",
      "\u001b[95m## Final Answer:\u001b[00m \u001b[92m\n",
      "Yes, there are various properties available in Jaipur, including but not limited to: 1. Office Space for Rent 2. Flats / Apartments for Rent 3. Warehouse / Godown for Rent 4. Showrooms for Rent 5. Independent House for Rent 6. Commercial Shops for Rent 7. Builder Floor for Rent 8. Commercial Plots for Rent 9. Factory for Rent 10. Industrial Land for Rent 11. Hotel & Restaurant for Rent 12. Residential Land / Plots for Rent 13. Farm / Agricultural Land for Rent 14. Business Center for Rent 15. Guest House for Rent 16. Villa for Rent 17. Farm House for Rent 18. Studio Apartments for Rent\u001b[00m\n",
      "\n",
      "\n"
     ]
    }
   ],
   "source": [
    "crew = my_crew.kickoff(inputs={\"input\": \"Are there any properties in jaipur\"})"
   ]
  },
  {
   "cell_type": "code",
   "execution_count": 53,
   "metadata": {},
   "outputs": [
    {
     "data": {
      "text/plain": [
       "'Yes, there are various properties available in Jaipur, including but not limited to: 1. Office Space for Rent 2. Flats / Apartments for Rent 3. Warehouse / Godown for Rent 4. Showrooms for Rent 5. Independent House for Rent 6. Commercial Shops for Rent 7. Builder Floor for Rent 8. Commercial Plots for Rent 9. Factory for Rent 10. Industrial Land for Rent 11. Hotel & Restaurant for Rent 12. Residential Land / Plots for Rent 13. Farm / Agricultural Land for Rent 14. Business Center for Rent 15. Guest House for Rent 16. Villa for Rent 17. Farm House for Rent 18. Studio Apartments for Rent'"
      ]
     },
     "execution_count": 53,
     "metadata": {},
     "output_type": "execute_result"
    }
   ],
   "source": [
    "crew.raw"
   ]
  }
 ],
 "metadata": {
  "kernelspec": {
   "display_name": ".venv",
   "language": "python",
   "name": "python3"
  },
  "language_info": {
   "codemirror_mode": {
    "name": "ipython",
    "version": 3
   },
   "file_extension": ".py",
   "mimetype": "text/x-python",
   "name": "python",
   "nbconvert_exporter": "python",
   "pygments_lexer": "ipython3",
   "version": "3.10.11"
  }
 },
 "nbformat": 4,
 "nbformat_minor": 2
}
