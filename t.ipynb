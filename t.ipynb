{
 "cells": [
  {
   "cell_type": "code",
   "execution_count": 1,
   "metadata": {},
   "outputs": [
    {
     "name": "stderr",
     "output_type": "stream",
     "text": [
      "e:\\Codes\\Data Sciene\\AI\\Real_Estate_Chatbot\\.venv\\lib\\site-packages\\pinecone\\data\\index.py:1: TqdmWarning: IProgress not found. Please update jupyter and ipywidgets. See https://ipywidgets.readthedocs.io/en/stable/user_install.html\n",
      "  from tqdm.autonotebook import tqdm\n"
     ]
    },
    {
     "data": {
      "text/plain": [
       "True"
      ]
     },
     "execution_count": 1,
     "metadata": {},
     "output_type": "execute_result"
    }
   ],
   "source": [
    "import os\n",
    "from dotenv import load_dotenv\n",
    "from pinecone.grpc import PineconeGRPC as Pinecone\n",
    "from pinecone import ServerlessSpec\n",
    "load_dotenv()"
   ]
  },
  {
   "cell_type": "code",
   "execution_count": 2,
   "metadata": {},
   "outputs": [],
   "source": [
    "pc = Pinecone(api_key=os.environ.get(\"PINECONE_API_KEY\"))\n",
    "index_name = 'realestatebot'\n",
    "namespace = 'docs-weblinks'"
   ]
  },
  {
   "cell_type": "code",
   "execution_count": 3,
   "metadata": {},
   "outputs": [],
   "source": [
    "from llama_index.embeddings.huggingface import HuggingFaceEmbedding\n",
    "from llama_index.vector_stores.pinecone import PineconeVectorStore\n",
    "from llama_index.core import Settings, VectorStoreIndex, get_response_synthesizer  # noqa: F401\n",
    "from llama_index.core.chat_engine.context import ContextChatEngine\n",
    "from llama_index.core.llms import ChatMessage\n",
    "from llama_index.core.memory import ChatMemoryBuffer\n",
    "from llama_index.core.postprocessor import LongContextReorder\n",
    "from llama_index.core.retrievers import VectorIndexRetriever\n",
    "# from llama_index.llms.gemini import Gemini\n",
    "from llama_index.llms.groq import Groq"
   ]
  },
  {
   "cell_type": "code",
   "execution_count": 4,
   "metadata": {},
   "outputs": [],
   "source": [
    "from llama_index.core.query_engine import RetrieverQueryEngine\n",
    "from crewai import Agent, Task, Crew, LLM\n",
    "from crewai_tools import LlamaIndexTool"
   ]
  },
  {
   "cell_type": "code",
   "execution_count": 5,
   "metadata": {},
   "outputs": [],
   "source": [
    "embed_model = HuggingFaceEmbedding(model_name=\"BAAI/bge-small-en\")"
   ]
  },
  {
   "cell_type": "code",
   "execution_count": 6,
   "metadata": {},
   "outputs": [],
   "source": [
    "Settings.embed_model=embed_model\n",
    "Settings.llm = Groq(api_key=os.environ.get(\"GROQ_API_KEY\"), model = 'llama3-70b-8192')"
   ]
  },
  {
   "cell_type": "code",
   "execution_count": 12,
   "metadata": {},
   "outputs": [],
   "source": [
    "from llama_index.core.llms import ChatMessage, MessageRole\n",
    "from llama_index.core import ChatPromptTemplate"
   ]
  },
  {
   "cell_type": "code",
   "execution_count": 24,
   "metadata": {},
   "outputs": [],
   "source": [
    "chat_text_qa_msgs = [\n",
    "    ChatMessage(\n",
    "        role=MessageRole.SYSTEM,\n",
    "        content=(\n",
    "            \"\"\" You are an assistant for answering real estate-related queries. Use the following pieces of retrieved information to answer questions about properties, such as available listings, property details (e.g., number of BHKs, facilities), and other relevant information. Provide clear and direct answers as if you're responding to a user's inquiry, without mentioning any documents or contexts. If you don't know the answer, just say that you don't know.\n",
    "\n",
    "You should always answer using the provided context and only the context from the document.\"\"\"\n",
    "        ),\n",
    "    ),\n",
    "    ChatMessage(\n",
    "        role=MessageRole.USER,\n",
    "        content=(\n",
    "            \"Context information is below.\\n\"\n",
    "            \"---------------------\\n\"\n",
    "            \"{context_str}\\n\"\n",
    "            \"---------------------\\n\"\n",
    "            \"Given the context information and not prior knowledge, \"\n",
    "            \"answer the query.\\n\"\n",
    "            \"Query: {query_str}\\n\"\n",
    "            \"Answer: \"\n",
    "        ),\n",
    "    ),\n",
    "]\n",
    "text_qa_template = ChatPromptTemplate(chat_text_qa_msgs)"
   ]
  },
  {
   "cell_type": "code",
   "execution_count": 37,
   "metadata": {},
   "outputs": [],
   "source": [
    "def pinecone_vectorstore():\n",
    "    index = pc.Index(index_name)\n",
    "    pinecone_vector_store = PineconeVectorStore(pinecone_index=index, namespace='docs-weblinks')\n",
    "\n",
    "    return VectorStoreIndex.from_vector_store(vector_store=pinecone_vector_store)\n",
    "\n",
    "reorder = LongContextReorder()\n",
    "vector_index_retriever = VectorIndexRetriever(\n",
    "index=pinecone_vectorstore(),\n",
    "namespace=namespace,\n",
    "postprocessors=[reorder],\n",
    "similarity_top_k=7),\n",
    "\n",
    "# index=pinecone_vectorstore()\n",
    "# namespace=namespace,\n",
    "response_synthesizer = get_response_synthesizer(response_mode='refine', text_qa_template=text_qa_template)\n",
    "postprocessors = [reorder]"
   ]
  },
  {
   "cell_type": "code",
   "execution_count": 38,
   "metadata": {},
   "outputs": [],
   "source": [
    "query_engine = RetrieverQueryEngine(\n",
    "        retriever=vector_index_retriever[0],\n",
    "        response_synthesizer=response_synthesizer,\n",
    ")"
   ]
  },
  {
   "cell_type": "code",
   "execution_count": 41,
   "metadata": {},
   "outputs": [],
   "source": [
    "res = query_engine.query(\"What are different properties sale at jaipur\")"
   ]
  },
  {
   "cell_type": "code",
   "execution_count": 43,
   "metadata": {},
   "outputs": [],
   "source": [
    "query_tool = LlamaIndexTool.from_query_engine(\n",
    "    query_engine,\n",
    "    name=\"Real Estate Bot\",\n",
    "    description=\"This tool is a real estate chatbot that helps answer property-related queries, including available listings, BHK details, facilities, and other relevant real estate information using context from the retrieved documents.\"\n",
    ")"
   ]
  },
  {
   "cell_type": "code",
   "execution_count": 44,
   "metadata": {},
   "outputs": [],
   "source": [
    "llm = LLM(\n",
    "    model = 'groq/llama-3.1-70b-versatile',\n",
    "    api_key=os.environ.get(\"GROQ_API_KEY\")\n",
    ")"
   ]
  },
  {
   "cell_type": "code",
   "execution_count": 45,
   "metadata": {},
   "outputs": [],
   "source": [
    "# Define the Real Estate Researcher agent\n",
    "real_estate_agent = Agent(\n",
    "    role=\"Real Estate Information Provider\",\n",
    "    goal=\"Provide tailored responses and retrieve relevant information from the document according to the user's query: {input}\",\n",
    "    backstory=\"\"\"An expert in finding and filtering relevant information from the provided documents or databases.\n",
    "    Your goal is to give concise and accurate information based on the user's query.\"\"\",\n",
    "    llm=llm,\n",
    "    tools=[query_tool],  # Pass the real estate bot query tool\n",
    "    verbose=True,\n",
    ")\n",
    "\n",
    "# Define the task for the agent\n",
    "real_estate_task = Task(\n",
    "    agent=real_estate_agent,\n",
    "    description=\"\"\"Your task is to filter and retrieve the most relevant information from the document based on the user's query: {input}.\n",
    "    Never provide any information outside of the document. If you don't know the answer, simply say that you don't know. Never give incorrect information.\"\"\",\n",
    "    expected_output=\"The output should be a single paragraph.\",\n",
    "    output_file='./output_crew_ai.txt'\n",
    ")\n",
    "\n",
    "# Create the Crew instance\n",
    "my_crew = Crew(agents=[real_estate_agent], tasks=[real_estate_task])"
   ]
  },
  {
   "cell_type": "code",
   "execution_count": 49,
   "metadata": {},
   "outputs": [
    {
     "name": "stdout",
     "output_type": "stream",
     "text": [
      "\u001b[1m\u001b[95m# Agent:\u001b[00m \u001b[1m\u001b[92mReal Estate Information Provider\u001b[00m\n",
      "\u001b[95m## Task:\u001b[00m \u001b[92mYour task is to filter and retrieve the most relevant information from the document based on the user's query: I want a flat in jaipur region in location shanti niketan.\n",
      "    Never provide any information outside of the document. If you don't know the answer, simply say that you don't know. Never give incorrect information.\u001b[00m\n",
      "\n",
      "\n",
      "\u001b[1m\u001b[95m# Agent:\u001b[00m \u001b[1m\u001b[92mReal Estate Information Provider\u001b[00m\n",
      "\u001b[95m## Thought:\u001b[00m \u001b[92mThought: I need to query the database to find relevant information about flats in the Jaipur region, specifically in the Shanti Niketan location.\u001b[00m\n",
      "\u001b[95m## Using tool:\u001b[00m \u001b[92mReal Estate Bot\u001b[00m\n",
      "\u001b[95m## Tool Input:\u001b[00m \u001b[92m\n",
      "\"{\\\"query\\\": \\\"flats in Jaipur region in Shanti Niketan location\\\"}\"\u001b[00m\n",
      "\u001b[95m## Tool Output:\u001b[00m \u001b[92m\n",
      "I don't know. The provided context does not mention Shanti Niketan location.\n",
      "\n",
      "\n",
      "You ONLY have access to the following tools, and should NEVER make up tools that are not listed here:\n",
      "\n",
      "Tool Name: Real Estate Bot(*args: Any, **kwargs: Any) -> Any\n",
      "Tool Description: Real Estate Bot(query: 'string') - This tool is a real estate chatbot that helps answer property-related queries, including available listings, BHK details, facilities, and other relevant real estate information using context from the retrieved documents. query: 'Search query for the query tool.'\n",
      "Tool Arguments: {'query': {'description': 'Search query for the query tool.', 'title': 'Query', 'type': 'string'}}\n",
      "\n",
      "Use the following format:\n",
      "\n",
      "Thought: you should always think about what to do\n",
      "Action: the action to take, only one name of [Real Estate Bot], just the name, exactly as it's written.\n",
      "Action Input: the input to the action, just a simple python dictionary, enclosed in curly braces, using \" to wrap keys and values.\n",
      "Observation: the result of the action\n",
      "\n",
      "Once all necessary information is gathered:\n",
      "\n",
      "Thought: I now know the final answer\n",
      "Final Answer: the final answer to the original input question\n",
      "\u001b[00m\n",
      "\n",
      "\n",
      "\u001b[1m\u001b[95m# Agent:\u001b[00m \u001b[1m\u001b[92mReal Estate Information Provider\u001b[00m\n",
      "\u001b[95m## Using tool:\u001b[00m \u001b[92mReal Estate Bot\u001b[00m\n",
      "\u001b[95m## Tool Input:\u001b[00m \u001b[92m\n",
      "\"{\\\"query\\\": \\\"flats in Jaipur region in Shanti Niketan location\\\"}\"\u001b[00m\n",
      "\u001b[95m## Tool Output:\u001b[00m \u001b[92m\n",
      "I tried reusing the same input, I must stop using this action input. I'll try something else instead.\n",
      "\n",
      "\u001b[00m\n"
     ]
    },
    {
     "name": "stderr",
     "output_type": "stream",
     "text": [
      "2024-09-30 00:17:28,238 - 9976 - llm.py-llm:88 - ERROR: LiteLLM call failed: litellm.RateLimitError: RateLimitError: GroqException - Error code: 429 - {'error': {'message': 'Rate limit reached for model `llama-3.1-70b-versatile` in organization `org_01j3nva787fhcrbfvsdrp1q2ps` on : Limit 500000, Used 499685, Requested 1087. Please try again in 2m13.293399999s. Visit https://console.groq.com/docs/rate-limits for more information.', 'type': '', 'code': 'rate_limit_exceeded'}}\n"
     ]
    },
    {
     "name": "stdout",
     "output_type": "stream",
     "text": [
      "\n",
      "\u001b[1;31mGive Feedback / Get Help: https://github.com/BerriAI/litellm/issues/new\u001b[0m\n",
      "LiteLLM.Info: If you need to debug this error, use `litellm.set_verbose=True'.\n",
      "\n",
      "\n",
      "\u001b[1;31mProvider List: https://docs.litellm.ai/docs/providers\u001b[0m\n",
      "\n",
      "\u001b[1m\u001b[95m# Agent:\u001b[00m \u001b[1m\u001b[92mReal Estate Information Provider\u001b[00m\n",
      "\u001b[95m## Task:\u001b[00m \u001b[92mYour task is to filter and retrieve the most relevant information from the document based on the user's query: I want a flat in jaipur region in location shanti niketan.\n",
      "    Never provide any information outside of the document. If you don't know the answer, simply say that you don't know. Never give incorrect information.\u001b[00m\n"
     ]
    }
   ],
   "source": [
    "crew = my_crew.kickoff(inputs={\"input\": \"I want a flat in jaipur region in location shanti niketan\"})"
   ]
  },
  {
   "cell_type": "code",
   "execution_count": 48,
   "metadata": {},
   "outputs": [
    {
     "data": {
      "text/plain": [
       "\"Based on your query, I didn't find a 2BHK flat in Jaipur available below 30 lakhs. However, I'd like to bring to your attention a few options in Bhankrota, Jaipur, such as a 3 BHK flat with an area of 1800 Sq.ft, priced between 57-60 lakhs, which might be of interest to you. If you're open to exploring more options, I suggest contacting the builder or agent for more information about the prices of available 2BHK flats in Jaipur that fit your budget of below 30 lakhs.\""
      ]
     },
     "execution_count": 48,
     "metadata": {},
     "output_type": "execute_result"
    }
   ],
   "source": [
    "crew.raw"
   ]
  }
 ],
 "metadata": {
  "kernelspec": {
   "display_name": ".venv",
   "language": "python",
   "name": "python3"
  },
  "language_info": {
   "codemirror_mode": {
    "name": "ipython",
    "version": 3
   },
   "file_extension": ".py",
   "mimetype": "text/x-python",
   "name": "python",
   "nbconvert_exporter": "python",
   "pygments_lexer": "ipython3",
   "version": "3.10.11"
  }
 },
 "nbformat": 4,
 "nbformat_minor": 2
}
